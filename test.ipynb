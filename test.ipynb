{
 "cells": [
  {
   "cell_type": "code",
   "execution_count": 21,
   "metadata": {},
   "outputs": [
    {
     "ename": "SyntaxError",
     "evalue": "invalid syntax (2024448710.py, line 15)",
     "output_type": "error",
     "traceback": [
      "\u001b[0;36m  Cell \u001b[0;32mIn[21], line 15\u001b[0;36m\u001b[0m\n\u001b[0;31m    with open(\"/home/hongzhenlong/my_main/classification/utils/1.txt\",mode=a)\u001b[0m\n\u001b[0m                                                                             ^\u001b[0m\n\u001b[0;31mSyntaxError\u001b[0m\u001b[0;31m:\u001b[0m invalid syntax\n"
     ]
    }
   ],
   "source": [
    "   \n",
    "import json\n",
    "import os\n",
    "from PIL import Image\n",
    "json_path = \"/repository02/kangll_data/WSI_data/ASC-H/精准元数据/JZY_7001034607/result/abnormal_cell_info.json\"\n",
    "patch_dir = \"/repository02/kangll_data/WSI_data/ASC-H/精准元数据/JZY_7001034607/img\"\n",
    "# 读取数据\n",
    "with open(json_path, 'r') as f:\n",
    "    data = json.load(f)\n",
    "    for img_dict in data:\n",
    "        true_rect = img_dict[\"true_rect\"]\n",
    "        patch_name = img_dict[\"patch_name\"]+\".jpg\"\n",
    "        img_name = img_dict[\"img_name\"]\n",
    "        label  = img_dict[\"classes\"][0]\n",
    "        img_path = os.path.join(patch_dir,patch_name)\n",
    "        img = Image.open(img_path)\n",
    "        left,top,w,h = true_rect\n",
    "        right = left+w\n",
    "        bottom= top+h\n",
    "        coordinate = [left,top,right,bottom]\n",
    "        cropped_image = img.crop((coordinate))\n",
    "        cropped_image.save(\"/home/hongzhenlong/my_main/classification/utils/%s\"%img_name)\n",
    "        break\n",
    "\n",
    "\n"
   ]
  },
  {
   "cell_type": "code",
   "execution_count": 23,
   "metadata": {},
   "outputs": [],
   "source": [
    "import json\n",
    "def data2yolo(json_path):\n",
    "    with open(json_path, 'r') as f:\n",
    "        data = json.load(f)\n",
    "        for img_dict in data:\n",
    "            left,top,w,h = img_dict[\"true_rect\"]\n",
    "            patch_name = img_dict[\"patch_name\"]+\".jpg\"\n",
    "            img_name = img_dict[\"img_name\"]\n",
    "            label  = img_dict[\"classes\"][0]\n",
    "            ###转换yolo格式\n",
    "            x_c = (left+w/2)/1024\n",
    "            y_c = (top+h/2)/1024\n",
    "            w_ =w/1024\n",
    "            h_ = h/1024\n",
    "            txt_data = \"%s %s %s %s %s\\n\"%(label,x_c,y_c,w_,h_)\n",
    "            with open(\"/home/hongzhenlong/my_main/classification/utils/1.txt\",mode=\"a\") as f:\n",
    "               f.writelines(txt_data) \n",
    "data2yolo(\"/home/hongzhenlong/my_main/classification/utils/abnormal_cell_info.json\")"
   ]
  }
 ],
 "metadata": {
  "kernelspec": {
   "display_name": "hand",
   "language": "python",
   "name": "python3"
  },
  "language_info": {
   "codemirror_mode": {
    "name": "ipython",
    "version": 3
   },
   "file_extension": ".py",
   "mimetype": "text/x-python",
   "name": "python",
   "nbconvert_exporter": "python",
   "pygments_lexer": "ipython3",
   "version": "3.8.0"
  },
  "orig_nbformat": 4
 },
 "nbformat": 4,
 "nbformat_minor": 2
}
